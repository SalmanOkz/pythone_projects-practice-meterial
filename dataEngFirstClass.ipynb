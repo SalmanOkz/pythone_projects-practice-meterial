{
  "nbformat": 4,
  "nbformat_minor": 0,
  "metadata": {
    "colab": {
      "provenance": []
    },
    "kernelspec": {
      "name": "python3",
      "display_name": "Python 3"
    },
    "language_info": {
      "name": "python"
    }
  },
  "cells": [
    {
      "cell_type": "markdown",
      "source": [
        "**First class ha!!!**\n"
      ],
      "metadata": {
        "id": "xDqm5Y1Ed57g"
      }
    },
    {
      "cell_type": "code",
      "execution_count": null,
      "metadata": {
        "id": "IKSILe5ciVT_",
        "colab": {
          "base_uri": "https://localhost:8080/"
        },
        "outputId": "62d10caf-c5b6-48ae-d233-bfffb69de8e5"
      },
      "outputs": [
        {
          "output_type": "stream",
          "name": "stdout",
          "text": [
            "hello world\n"
          ]
        }
      ],
      "source": [
        "print(\"hello world\")"
      ]
    },
    {
      "cell_type": "code",
      "source": [
        "print(\"\"\"\n",
        "helo nigga!\n",
        "\"\"\")"
      ],
      "metadata": {
        "colab": {
          "base_uri": "https://localhost:8080/"
        },
        "id": "NE9ai74ybHeA",
        "outputId": "30e96664-f817-4625-f24d-9e6d6f6a0fb7"
      },
      "execution_count": null,
      "outputs": [
        {
          "output_type": "stream",
          "name": "stdout",
          "text": [
            "\n",
            "helo nigga!\n",
            "\n"
          ]
        }
      ]
    },
    {
      "cell_type": "code",
      "source": [
        "print(\"hello\" + \"world\")"
      ],
      "metadata": {
        "colab": {
          "base_uri": "https://localhost:8080/"
        },
        "id": "AyYnm8NwfHUc",
        "outputId": "53c084c6-4637-4232-f74e-153759917de8"
      },
      "execution_count": null,
      "outputs": [
        {
          "output_type": "stream",
          "name": "stdout",
          "text": [
            "helloworld\n"
          ]
        }
      ]
    },
    {
      "cell_type": "code",
      "source": [
        "array=[8,31,23,2]\n",
        "array2 = [2,1,4,5,1]\n",
        "if array <= array2:\n",
        "  print(\"true\")\n",
        "else:\n",
        "  print(\"false\")\n",
        "for arrays in array:\n",
        "  print(arrays)"
      ],
      "metadata": {
        "colab": {
          "base_uri": "https://localhost:8080/"
        },
        "id": "iC-1tX2Ar6Lu",
        "outputId": "a28ee589-9040-40fb-ff4a-84554d312061"
      },
      "execution_count": null,
      "outputs": [
        {
          "output_type": "stream",
          "name": "stdout",
          "text": [
            "false\n",
            "8\n",
            "31\n",
            "23\n",
            "2\n"
          ]
        }
      ]
    },
    {
      "cell_type": "code",
      "source": [
        "#take a user input and and use simple if statment\n",
        "number = int(input(\"enter a number: \"))\n",
        "if number % 2 == 0:\n",
        "  print(\"even\")\n",
        "elif number == 0:\n",
        "  print(\"zero\")\n",
        "else:\n",
        "  print(\"odd\")"
      ],
      "metadata": {
        "colab": {
          "base_uri": "https://localhost:8080/"
        },
        "id": "cEXLupWKtuSc",
        "outputId": "a65637f6-fb3d-4978-e378-f747ba5ed464"
      },
      "execution_count": null,
      "outputs": [
        {
          "output_type": "stream",
          "name": "stdout",
          "text": [
            "enter a number: 5\n",
            "odd\n"
          ]
        }
      ]
    },
    {
      "cell_type": "code",
      "source": [
        "num1= 44\n",
        "num2=4\n",
        "num3 = 1\n",
        "print(num1*(60*60))"
      ],
      "metadata": {
        "id": "o8oICFGk3i_V",
        "colab": {
          "base_uri": "https://localhost:8080/"
        },
        "outputId": "f8e41514-3f7a-438f-bc29-07e8d5a79750"
      },
      "execution_count": null,
      "outputs": [
        {
          "output_type": "stream",
          "name": "stdout",
          "text": [
            "158400\n"
          ]
        }
      ]
    },
    {
      "cell_type": "code",
      "source": [
        "time = 20\n",
        "distance = 30\n",
        "speed = lambda time, distance: distance / time\n",
        "print(speed(time, distance))  # ✅ Now it will output: 1.5"
      ],
      "metadata": {
        "colab": {
          "base_uri": "https://localhost:8080/"
        },
        "id": "NcR9tiP0nUu7",
        "outputId": "33f027ee-d3e5-44e0-9442-97b07d754184"
      },
      "execution_count": null,
      "outputs": [
        {
          "output_type": "stream",
          "name": "stdout",
          "text": [
            "1.5\n"
          ]
        }
      ]
    },
    {
      "cell_type": "code",
      "source": [
        "distance_km = distance * 1000\n",
        "speed = lambda time, distance_km: distance_km / time\n",
        "print(f\"speed in m/hrs,{speed(time, distance_km)}\")"
      ],
      "metadata": {
        "colab": {
          "base_uri": "https://localhost:8080/"
        },
        "id": "rexyN3tDoLoq",
        "outputId": "08aeba77-7061-4f45-e3c1-75b0c2d34103"
      },
      "execution_count": null,
      "outputs": [
        {
          "output_type": "stream",
          "name": "stdout",
          "text": [
            "speed in m/hrs,1500.0\n"
          ]
        }
      ]
    },
    {
      "cell_type": "code",
      "source": [],
      "metadata": {
        "id": "cJZTV5ZorMq8"
      },
      "execution_count": null,
      "outputs": []
    }
  ]
}