{
  "nbformat": 4,
  "nbformat_minor": 0,
  "metadata": {
    "colab": {
      "provenance": []
    },
    "kernelspec": {
      "name": "python3",
      "display_name": "Python 3"
    },
    "language_info": {
      "name": "python"
    }
  },
  "cells": [
    {
      "cell_type": "code",
      "execution_count": null,
      "metadata": {
        "id": "5Png5jJhTpTM",
        "colab": {
          "base_uri": "https://localhost:8080/"
        },
        "outputId": "5bc4b86f-7338-4303-d254-4b5436979cd4"
      },
      "outputs": [
        {
          "output_type": "execute_result",
          "data": {
            "text/plain": [
              "1"
            ]
          },
          "metadata": {},
          "execution_count": 24
        }
      ],
      "source": [
        "list_of_cities=[\n",
        "    \"New York\",\n",
        "    \"Los Angeles\",\n",
        "    \"Chicago\",\n",
        "    \"Houston\",\n",
        "    \"Phoenix\",\n",
        "    \"Philadelphia\",\n",
        "    \"San Antonio\",\n",
        "    \"San Diego\",\n",
        "    \"Dallas\",\n",
        "    \"San Jose\"\n",
        "]\n",
        "list_of_cities.count(\"New York\")\n",
        "\n"
      ]
    },
    {
      "cell_type": "code",
      "source": [
        "list_of_cities.index(\"New York\")"
      ],
      "metadata": {
        "colab": {
          "base_uri": "https://localhost:8080/"
        },
        "id": "VaiGUhPFO995",
        "outputId": "88152951-9008-4886-f544-99ff87b7d336"
      },
      "execution_count": null,
      "outputs": [
        {
          "output_type": "execute_result",
          "data": {
            "text/plain": [
              "0"
            ]
          },
          "metadata": {},
          "execution_count": 25
        }
      ]
    },
    {
      "cell_type": "code",
      "source": [
        "list_of_cities.append(\"San Francisco\")"
      ],
      "metadata": {
        "id": "lIppu5XIP7mX"
      },
      "execution_count": null,
      "outputs": []
    },
    {
      "cell_type": "code",
      "source": [
        "#s6elo copy\n",
        "new_cities=list_of_cities.copy()\n",
        "print(new_cities)"
      ],
      "metadata": {
        "colab": {
          "base_uri": "https://localhost:8080/"
        },
        "id": "mmtoZq7_Qs8U",
        "outputId": "c7b8e2da-515d-40da-8fd4-a1a47042525f"
      },
      "execution_count": null,
      "outputs": [
        {
          "output_type": "stream",
          "name": "stdout",
          "text": [
            "['New York', 'Los Angeles', 'Chicago', 'Houston', 'Phoenix', 'Philadelphia', 'San Antonio', 'San Diego', 'Dallas', 'San Jose', 'San Francisco']\n"
          ]
        }
      ]
    },
    {
      "cell_type": "code",
      "source": [
        "\n",
        "deepcopy_lst=[\n",
        "    \"New York\",\n",
        "    \"Los Angeles\",\n",
        "    \"Chicago\",\n",
        "    \"Houston\",\n",
        "    \"Phoenix\",\n",
        "    \"Philadelphia\",\n",
        "    \"San Antonio\",\n",
        "    \"San Diego\",\n",
        "    \"Dallas\",\n",
        "    \"San Jose\"\n",
        "]\n",
        "print(id(deepcopy_lst))"
      ],
      "metadata": {
        "colab": {
          "base_uri": "https://localhost:8080/"
        },
        "id": "eo33-FJoRhko",
        "outputId": "3dab4cbe-91f2-4304-90d1-656aba90dad2"
      },
      "execution_count": null,
      "outputs": [
        {
          "output_type": "stream",
          "name": "stdout",
          "text": [
            "138915682957760\n"
          ]
        }
      ]
    },
    {
      "cell_type": "code",
      "source": [
        "#deep_copy\n",
        "lst2=deepcopy_lst"
      ],
      "metadata": {
        "id": "jzTxAeF9Sp2_"
      },
      "execution_count": null,
      "outputs": []
    },
    {
      "cell_type": "code",
      "source": [
        "print(id(lst2))"
      ],
      "metadata": {
        "colab": {
          "base_uri": "https://localhost:8080/"
        },
        "id": "3dB3TIQJSv_j",
        "outputId": "ebe67b63-4ed7-4bf4-b516-013c2beaed66"
      },
      "execution_count": null,
      "outputs": [
        {
          "output_type": "stream",
          "name": "stdout",
          "text": [
            "138915682957760\n"
          ]
        }
      ]
    },
    {
      "cell_type": "code",
      "source": [
        "import copy\n",
        "\n",
        "original_list = [1, 2, [3, 4]]\n",
        "deep_copied_list = copy.deepcopy(original_list)\n",
        "print(id(deep_copied_list))\n",
        "\n",
        "# Modifying the nested list in deep copy doesn't affect the original\n",
        "deep_copied_list[2][0] = 'changed'\n",
        "print(id(original_list))  # Output: [1, 2, [3, 4]]"
      ],
      "metadata": {
        "colab": {
          "base_uri": "https://localhost:8080/"
        },
        "id": "mL101yJPS4OB",
        "outputId": "b513b812-656c-464e-b63e-e6a38d29e134"
      },
      "execution_count": null,
      "outputs": [
        {
          "output_type": "stream",
          "name": "stdout",
          "text": [
            "138915360218688\n",
            "138915360143680\n"
          ]
        }
      ]
    },
    {
      "cell_type": "code",
      "source": [
        "print(\"hello world\")"
      ],
      "metadata": {
        "id": "gY5QoGmjTm5Q",
        "colab": {
          "base_uri": "https://localhost:8080/"
        },
        "outputId": "80a3de02-c85f-42fe-ec24-d9701a6e36f1"
      },
      "execution_count": 1,
      "outputs": [
        {
          "output_type": "stream",
          "name": "stdout",
          "text": [
            "hello world\n"
          ]
        }
      ]
    },
    {
      "cell_type": "code",
      "source": [
        "def calculation(a, b):\n",
        "    addition = a + b\n",
        "    subtraction = a - b\n",
        "    return addition, subtraction\n",
        "\n",
        "result = calculation(40, 10)\n",
        "print(result)"
      ],
      "metadata": {
        "colab": {
          "base_uri": "https://localhost:8080/"
        },
        "id": "Yl7_jjbKsLun",
        "outputId": "738f1f64-df81-4ef7-d534-20542f3297fa"
      },
      "execution_count": 1,
      "outputs": [
        {
          "output_type": "stream",
          "name": "stdout",
          "text": [
            "(50, 30)\n"
          ]
        }
      ]
    },
    {
      "cell_type": "code",
      "source": [
        "list_of_num = [1,2,3]"
      ],
      "metadata": {
        "id": "B74eAOrEgLaj"
      },
      "execution_count": 10,
      "outputs": []
    },
    {
      "cell_type": "code",
      "source": [
        "for num in list_of_num:\n",
        "  for j in range(0,10):\n",
        "    num+=1\n",
        "    print(num)\n",
        "    print(num*j)\n",
        "\n",
        "  print(num)"
      ],
      "metadata": {
        "id": "7zG1541Hhlpm"
      },
      "execution_count": null,
      "outputs": []
    },
    {
      "cell_type": "code",
      "source": [
        "temperature = int(input(\"Enter the temperature in Celsius: \"))\n",
        "fahrenheit = (temperature * 9/5) + 32\n",
        "print(f\"{temperature} degrees Celsius is equal to {fahrenheit} degrees Fahrenheit.\")\n",
        "kelvin = temperature + 273\n",
        "print(f\"{temperature} degrees Celsius is equal to {kelvin} degrees Kelvin.\")"
      ],
      "metadata": {
        "colab": {
          "base_uri": "https://localhost:8080/"
        },
        "id": "a14y4A1KhxqN",
        "outputId": "929b2138-72f0-4ea1-f0ab-1978aa1d707c"
      },
      "execution_count": 4,
      "outputs": [
        {
          "output_type": "stream",
          "name": "stdout",
          "text": [
            "Enter the temperature in Celsius: 40\n",
            "40 degrees Celsius is equal to 104.0 degrees Fahrenheit.\n",
            "40 degrees Celsius is equal to 313 degrees Kelvin.\n"
          ]
        }
      ]
    },
    {
      "cell_type": "code",
      "source": [
        "temperature = float(input(\"Enter the temperature in farhenhneit: \"))\n",
        "centegrade = (5*(temperature - 32))/9\n",
        "print(f\"{temperature} degrees Fahrenheit is equal to {centegrade} degrees Celsius.\")"
      ],
      "metadata": {
        "colab": {
          "base_uri": "https://localhost:8080/"
        },
        "id": "TCC-V81MOS3F",
        "outputId": "0f9a8bc1-af40-4a5a-8052-6df28aad2687"
      },
      "execution_count": 5,
      "outputs": [
        {
          "output_type": "stream",
          "name": "stdout",
          "text": [
            "Enter the temperature in farhenhneit: 104\n",
            "104 degrees Fahrenheit is equal to 40.0 degrees Celsius.\n"
          ]
        }
      ]
    },
    {
      "cell_type": "code",
      "source": [
        "temperature = float(input(\"Enter the temperature in farhenhneit: \"))\n",
        "kelvin = (5*(temperature - 32))/9 + 273\n",
        "print(f\"{temperature} degrees Fahrenheit is equal to {kelvin} degrees Kelvin.\")"
      ],
      "metadata": {
        "colab": {
          "base_uri": "https://localhost:8080/"
        },
        "id": "DAOWr9CGOmC1",
        "outputId": "724222de-84f4-4a75-f4ed-3b25f4ebbab2"
      },
      "execution_count": 7,
      "outputs": [
        {
          "output_type": "stream",
          "name": "stdout",
          "text": [
            "Enter the temperature in farhenhneit: 104\n",
            "104 degrees Fahrenheit is equal to 313.0 degrees Kelvin.\n"
          ]
        }
      ]
    },
    {
      "cell_type": "code",
      "source": [
        "file = float(input(\"Enter the file size in KB: \"))\n",
        "file_in_bytes = file/1000\n",
        "print(f\"file size {file} KB, converted into bytes {file_in_bytes}\")"
      ],
      "metadata": {
        "colab": {
          "base_uri": "https://localhost:8080/"
        },
        "id": "F83zc-HwPjIU",
        "outputId": "67c73b7b-c0be-4f41-ffa1-a2d99325efd3"
      },
      "execution_count": 8,
      "outputs": [
        {
          "output_type": "stream",
          "name": "stdout",
          "text": [
            "Enter the file size in KB: 100\n",
            "file size 100.0 KB, converted into bytes 0.1\n"
          ]
        }
      ]
    },
    {
      "cell_type": "code",
      "source": [
        "student_number = float(input(\"Enter student number's: \"))\n",
        "student_number_in_percentage = (student_number/15)*100\n",
        "print(f\"student number {student_number}, converted into percentage {student_number_in_percentage}%\")"
      ],
      "metadata": {
        "colab": {
          "base_uri": "https://localhost:8080/"
        },
        "id": "6ONQAsJVQPx0",
        "outputId": "175984a8-4234-4ab7-a534-30ab626d2a48"
      },
      "execution_count": 14,
      "outputs": [
        {
          "output_type": "stream",
          "name": "stdout",
          "text": [
            "Enter student number's: 9\n",
            "student number 9.0, converted into percentage 60.0%\n"
          ]
        }
      ]
    },
    {
      "cell_type": "code",
      "source": [
        "number = [1,2,3,4,5]\n",
        "print(number[::-3])"
      ],
      "metadata": {
        "colab": {
          "base_uri": "https://localhost:8080/"
        },
        "id": "VLXtawQzRAh0",
        "outputId": "a699c1ee-d8ec-4825-f0c5-aac077e99ebe"
      },
      "execution_count": 19,
      "outputs": [
        {
          "output_type": "stream",
          "name": "stdout",
          "text": [
            "[5, 2]\n"
          ]
        }
      ]
    },
    {
      "cell_type": "code",
      "source": [
        "number = int(input(\"any number\"))\n",
        "number_2 = int(input(\"any number\"))\n",
        "number_1 = number\n",
        "number = number_2\n",
        "number_2 = number_1\n",
        "print(number)\n",
        "print(number_2)"
      ],
      "metadata": {
        "colab": {
          "base_uri": "https://localhost:8080/"
        },
        "id": "XXmaMV4TRr6E",
        "outputId": "0cda210a-9549-4feb-a05a-2960820982a9"
      },
      "execution_count": 21,
      "outputs": [
        {
          "output_type": "stream",
          "name": "stdout",
          "text": [
            "any number7\n",
            "any number2\n",
            "2\n",
            "7\n"
          ]
        }
      ]
    },
    {
      "cell_type": "code",
      "source": [
        "number = int(input(\"any number\"))\n",
        "number_2 = int(input(\"any number\"))\n",
        "number,number_2 = number_2,number\n",
        "print(number)\n",
        "print(number_2)\n"
      ],
      "metadata": {
        "colab": {
          "base_uri": "https://localhost:8080/"
        },
        "id": "zepstH6bSZw6",
        "outputId": "664033c8-f723-4c3e-ca1f-580145e8c109"
      },
      "execution_count": 22,
      "outputs": [
        {
          "output_type": "stream",
          "name": "stdout",
          "text": [
            "any number3\n",
            "any number2\n",
            "2\n",
            "3\n"
          ]
        }
      ]
    },
    {
      "cell_type": "code",
      "source": [
        "#the most significant (left most) of three digit number\n",
        "number = int(input(\"any number\"))\n",
        "print(number//100)"
      ],
      "metadata": {
        "colab": {
          "base_uri": "https://localhost:8080/"
        },
        "id": "FDuJTOvDS_Ti",
        "outputId": "11887e20-c69e-4a3d-fb23-eb2d79439f0c"
      },
      "execution_count": 24,
      "outputs": [
        {
          "output_type": "stream",
          "name": "stdout",
          "text": [
            "any number2121\n",
            "21\n"
          ]
        }
      ]
    },
    {
      "cell_type": "code",
      "source": [
        "import numpy as np\n",
        "import matplotlib.pyplot as plt\n",
        "from tensorflow.keras.models import Sequential\n",
        "from tensorflow.keras.layers import Dense\n",
        "from sklearn.preprocessing import StandardScaler\n",
        "from sklearn.cluster import KMeans\n",
        "\n",
        "# Define datasets for AND and OR gates\n",
        "X = np.array([[0, 0], [0, 1], [1, 0], [1, 1]])  # Inputs\n",
        "y_and = np.array([[0], [0], [0], [1]])  # AND gate outputs\n",
        "y_or = np.array([[0], [1], [1], [1]])  # OR gate outputs\n",
        "\n",
        "# Function to create and train ANN\n",
        "def train_logic_gate(X, y, gate_name):\n",
        "    model = Sequential()\n",
        "    model.add(Dense(units=1, activation='sigmoid', input_dim=2))\n",
        "    model.compile(optimizer='adam', loss='binary_crossentropy', metrics=['accuracy'])\n",
        "    model.fit(X, y, epochs=100, verbose=0)\n",
        "    loss, accuracy = model.evaluate(X, y, verbose=0)\n",
        "    print(f\"{gate_name} Gate Accuracy: {accuracy:.2f}\")\n",
        "    predictions = np.round(model.predict(X))\n",
        "    print(f\"{gate_name} Gate Predictions:\\n{predictions}\")\n",
        "\n",
        "# Train AND gate\n",
        "train_logic_gate(X, y_and, \"AND\")\n",
        "\n",
        "# Train OR gate\n",
        "train_logic_gate(X, y_or, \"OR\")\n",
        "\n",
        "# Clustering example (ensure X is scaled before K-Means)\n",
        "scaler = StandardScaler()\n",
        "X_scaled = scaler.fit_transform(X)\n",
        "\n",
        "# Apply KMeans clustering\n",
        "kmeans = KMeans(n_clusters=2, random_state=42, n_init=10)\n",
        "kmeans.fit(X_scaled)\n",
        "\n",
        "# Visualizing the clusters\n",
        "plt.scatter(X_scaled[:, 0], X_scaled[:, 1], c=kmeans.labels_, cmap='viridis')\n",
        "plt.scatter(kmeans.cluster_centers_[:, 0], kmeans.cluster_centers_[:, 1], s=200, c='red', marker='X')\n",
        "plt.title('Customer Segments')\n",
        "plt.xlabel('Feature 1')\n",
        "plt.ylabel('Feature 2')\n",
        "plt.show()\n"
      ],
      "metadata": {
        "colab": {
          "base_uri": "https://localhost:8080/",
          "height": 770
        },
        "id": "dT2CmsCrTwnU",
        "outputId": "9851834a-4481-481f-d31f-d40278460c78"
      },
      "execution_count": 1,
      "outputs": [
        {
          "output_type": "stream",
          "name": "stderr",
          "text": [
            "/usr/local/lib/python3.11/dist-packages/keras/src/layers/core/dense.py:93: UserWarning: Do not pass an `input_shape`/`input_dim` argument to a layer. When using Sequential models, prefer using an `Input(shape)` object as the first layer in the model instead.\n",
            "  super().__init__(activity_regularizer=activity_regularizer, **kwargs)\n"
          ]
        },
        {
          "output_type": "stream",
          "name": "stdout",
          "text": [
            "AND Gate Accuracy: 0.50\n",
            "\u001b[1m1/1\u001b[0m \u001b[32m━━━━━━━━━━━━━━━━━━━━\u001b[0m\u001b[37m\u001b[0m \u001b[1m0s\u001b[0m 49ms/step\n",
            "AND Gate Predictions:\n",
            "[[0.]\n",
            " [1.]\n",
            " [0.]\n",
            " [0.]]\n",
            "OR Gate Accuracy: 0.75\n",
            "\u001b[1m1/1\u001b[0m \u001b[32m━━━━━━━━━━━━━━━━━━━━\u001b[0m\u001b[37m\u001b[0m \u001b[1m0s\u001b[0m 52ms/step\n",
            "OR Gate Predictions:\n",
            "[[1.]\n",
            " [1.]\n",
            " [1.]\n",
            " [1.]]\n"
          ]
        },
        {
          "output_type": "display_data",
          "data": {
            "text/plain": [
              "<Figure size 640x480 with 1 Axes>"
            ],
            "image/png": "[encoded data removed]"
          },
          "metadata": {}
        }
      ]
    },
    {
      "cell_type": "code",
      "source": [],
      "metadata": {
        "id": "EaKnQkRrP-k0"
      },
      "execution_count": null,
      "outputs": []
    }
  ]
}