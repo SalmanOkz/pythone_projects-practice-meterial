{
  "nbformat": 4,
  "nbformat_minor": 0,
  "metadata": {
    "colab": {
      "provenance": []
    },
    "kernelspec": {
      "name": "python3",
      "display_name": "Python 3"
    },
    "language_info": {
      "name": "python"
    }
  },
  "cells": [
    {
      "cell_type": "code",
      "execution_count": null,
      "metadata": {
        "colab": {
          "base_uri": "https://localhost:8080/"
        },
        "id": "0aJhkiKkLwlo",
        "outputId": "d8e548cf-4025-4c55-ffe3-bee08ef34bbf"
      },
      "outputs": [
        {
          "output_type": "stream",
          "name": "stdout",
          "text": [
            "hello Shayan Ali\n",
            "hello hogakonho me\n"
          ]
        }
      ],
      "source": [
        "def greet(first_name,last_name):\n",
        "  return f\"hello {first_name} {last_name}\"\n",
        "  return \"wellcome\"\n",
        "\n",
        "\n",
        "print(greet(\"Shayan\",\"Ali\"))\n",
        "print(greet(\"hogakonho\",\"me\"))"
      ]
    },
    {
      "cell_type": "code",
      "source": [
        "def multiply(number_1, number_2):\n",
        "  return number_1 * number_2\n",
        "\n",
        "result = multiply(2, 3)\n",
        "result = result + 2\n",
        "print(result)"
      ],
      "metadata": {
        "colab": {
          "base_uri": "https://localhost:8080/"
        },
        "id": "doYZecZsOdHa",
        "outputId": "72edeecb-1e92-407b-eb68-211734a4e191"
      },
      "execution_count": null,
      "outputs": [
        {
          "output_type": "stream",
          "name": "stdout",
          "text": [
            "8\n"
          ]
        }
      ]
    },
    {
      "cell_type": "markdown",
      "source": [
        "DSA hain ya:  \n",
        "\n",
        "dictionary:\n",
        "tuple\n"
      ],
      "metadata": {
        "id": "uJZQx9WXR66o"
      }
    },
    {
      "cell_type": "code",
      "source": [
        "def encrypt(text,s):\n",
        "  result = \"\"\n",
        "  upper_letters=\"ABCDEFGHIJKLMNOPQRSTUVWXYZ\"\n",
        "  lower_letters=\"abcdefghijklmnopqrstuvwxyz\"\n",
        "  for i in range(len(text)):\n",
        "      char = text[i]\n",
        "      if (char.isupper()):\n",
        "         result += upper_letters[(text.index(char)+s) %26]\n",
        "      else:\n",
        "         result += lower_letters[(text.index(char)+s) %26]\n",
        "\n",
        "  return result\n",
        "\n",
        "\n",
        "text = \"muhammad salman\"\n",
        "s = 3\n",
        "\n",
        "print (\"Cypher: \" + encrypt(text,s))"
      ],
      "metadata": {
        "colab": {
          "base_uri": "https://localhost:8080/"
        },
        "id": "wxEzENvuSAlr",
        "outputId": "6bf210cb-bcf5-47a0-b305-1680f1655f21"
      },
      "execution_count": null,
      "outputs": [
        {
          "output_type": "stream",
          "name": "stdout",
          "text": [
            "Cypher: defgddgklmgodgr\n"
          ]
        }
      ]
    },
    {
      "cell_type": "code",
      "source": [],
      "metadata": {
        "id": "AdDzIzrpSqwT"
      },
      "execution_count": null,
      "outputs": []
    }
  ]
}